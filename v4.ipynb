{
 "cells": [
  {
   "cell_type": "code",
   "execution_count": 1,
   "metadata": {},
   "outputs": [
    {
     "data": {
      "text/plain": [
       "<Figure size 640x480 with 1 Axes>"
      ]
     },
     "metadata": {},
     "output_type": "display_data"
    },
    {
     "name": "stdout",
     "output_type": "stream",
     "text": [
      "dishonest index: 14\n",
      "honest coordinates: [46.00412321 32.29221751]\n",
      "dishonest coordinates: [46.76424242 36.55445618]\n"
     ]
    },
    {
     "data": {
      "text/plain": [
       "<Figure size 640x480 with 1 Axes>"
      ]
     },
     "metadata": {},
     "output_type": "display_data"
    },
    {
     "name": "stdout",
     "output_type": "stream",
     "text": [
      "dishonest index: 17\n",
      "honest coordinates: [6.2444789  1.87985969]\n",
      "dishonest coordinates: [12.45932864  2.41444521]\n"
     ]
    },
    {
     "data": {
      "text/plain": [
       "<Figure size 640x480 with 1 Axes>"
      ]
     },
     "metadata": {},
     "output_type": "display_data"
    },
    {
     "name": "stdout",
     "output_type": "stream",
     "text": [
      "honest distances: [ 3.3259495   0.          0.          0.          0.          0.\n",
      "  0.          0.          0.          0.         12.98961497  0.\n",
      "  0.          5.33236083  0.          0.          0.          0.\n",
      "  0.          0.        ]\n",
      "dishonest distances: [ 6.27437478  0.          0.          0.         12.70113114  0.\n",
      "  0.         13.79830463  0.          0.          8.8141172   0.\n",
      "  0.          6.77403275  0.          0.          0.          0.\n",
      "  0.          0.        ]\n"
     ]
    },
    {
     "data": {
      "text/plain": [
       "<Figure size 640x480 with 1 Axes>"
      ]
     },
     "metadata": {},
     "output_type": "display_data"
    },
    {
     "name": "stdout",
     "output_type": "stream",
     "text": [
      "dishonest index: 12\n",
      "honest coordinates: [31.89923966 36.67250773]\n",
      "dishonest coordinates: [28.4646583  40.19291976]\n"
     ]
    },
    {
     "data": {
      "text/plain": [
       "<Figure size 640x480 with 1 Axes>"
      ]
     },
     "metadata": {},
     "output_type": "display_data"
    },
    {
     "name": "stdout",
     "output_type": "stream",
     "text": [
      "honest distances: [ 0.          0.          0.          0.          0.          6.93621322\n",
      "  0.          0.         13.84256625  0.          0.          0.\n",
      "  0.          0.         14.76938328 14.01663877  0.          0.\n",
      "  0.          0.        ]\n",
      "dishonest distances: [0.         0.         0.         0.         0.         8.30245785\n",
      " 0.         0.         0.         0.         0.         0.\n",
      " 0.         0.         0.         0.         0.         0.\n",
      " 0.         0.        ]\n"
     ]
    },
    {
     "data": {
      "text/plain": [
       "<Figure size 640x480 with 1 Axes>"
      ]
     },
     "metadata": {},
     "output_type": "display_data"
    },
    {
     "name": "stdout",
     "output_type": "stream",
     "text": [
      "dishonest index: 12\n",
      "honest coordinates: [31.89923966 36.67250773]\n",
      "dishonest coordinates: [31.26531179 34.47515882]\n"
     ]
    },
    {
     "data": {
      "text/plain": [
       "<Figure size 640x480 with 1 Axes>"
      ]
     },
     "metadata": {},
     "output_type": "display_data"
    },
    {
     "name": "stdout",
     "output_type": "stream",
     "text": [
      "dishonest distances: [0. 0. 0. 0. 0. 0. 0. 0. 0. 0. 0. 0. 0. 0. 0. 0. 0. 0. 0. 0.]\n"
     ]
    },
    {
     "data": {
      "text/plain": [
       "<Figure size 640x480 with 1 Axes>"
      ]
     },
     "metadata": {},
     "output_type": "display_data"
    },
    {
     "name": "stdout",
     "output_type": "stream",
     "text": [
      "dishonest index: 12\n",
      "honest coordinates: [31.89923966 36.67250773]\n",
      "dishonest coordinates: [24.09655271 37.32589772]\n"
     ]
    },
    {
     "data": {
      "text/plain": [
       "<Figure size 640x480 with 1 Axes>"
      ]
     },
     "metadata": {},
     "output_type": "display_data"
    },
    {
     "name": "stdout",
     "output_type": "stream",
     "text": [
      "dishonest distances: [ 0.          0.          0.          0.          0.          6.93621322\n",
      "  0.          0.         13.84256625  0.          0.          0.\n",
      "  0.          0.         14.76938328 14.01663877  0.          0.\n",
      "  0.          0.        ]\n"
     ]
    },
    {
     "data": {
      "text/plain": [
       "<Figure size 640x480 with 1 Axes>"
      ]
     },
     "metadata": {},
     "output_type": "display_data"
    },
    {
     "data": {
      "text/plain": [
       "<Figure size 640x480 with 1 Axes>"
      ]
     },
     "metadata": {},
     "output_type": "display_data"
    },
    {
     "data": {
      "text/plain": [
       "<Figure size 640x480 with 1 Axes>"
      ]
     },
     "metadata": {},
     "output_type": "display_data"
    },
    {
     "data": {
      "text/plain": [
       "<Figure size 640x480 with 1 Axes>"
      ]
     },
     "metadata": {},
     "output_type": "display_data"
    },
    {
     "data": {
      "text/plain": [
       "<Figure size 640x480 with 1 Axes>"
      ]
     },
     "metadata": {},
     "output_type": "display_data"
    },
    {
     "name": "stdout",
     "output_type": "stream",
     "text": [
      "traitor node: 9\n"
     ]
    },
    {
     "data": {
      "text/plain": [
       "<Figure size 640x480 with 1 Axes>"
      ]
     },
     "metadata": {},
     "output_type": "display_data"
    },
    {
     "data": {
      "text/plain": [
       "<Figure size 640x480 with 1 Axes>"
      ]
     },
     "metadata": {},
     "output_type": "display_data"
    }
   ],
   "source": [
    "%run ./data-gen.ipynb"
   ]
  },
  {
   "cell_type": "code",
   "execution_count": 2,
   "metadata": {},
   "outputs": [
    {
     "data": {
      "text/plain": [
       "(array([[ 6.81578354,  5.15637477],\n",
       "        [39.21689063,  5.464579  ],\n",
       "        [ 1.44696842, 34.4950734 ],\n",
       "        [12.68133227, 38.5227681 ],\n",
       "        [25.0051832 ,  4.39441122],\n",
       "        [36.61873469, 41.75556001],\n",
       "        [13.63588266, 47.27704823],\n",
       "        [22.91636496, 11.41686721],\n",
       "        [27.76711439, 23.46106643],\n",
       "        [31.82254597, 13.4855239 ],\n",
       "        [15.95752188, 10.50464336],\n",
       "        [44.11779981, 22.75828443],\n",
       "        [31.89923966, 36.67250773],\n",
       "        [ 7.52547859,  7.056066  ],\n",
       "        [46.76424242, 36.55445618],\n",
       "        [28.20079655, 23.15260828],\n",
       "        [48.22275289, 36.82310014],\n",
       "        [ 6.2444789 ,  1.87985969],\n",
       "        [40.71365313, 21.06054951],\n",
       "        [42.59510505, 23.06624587]]),\n",
       " array([[ 0.        ,  0.        ,  0.        ,  0.        ,  0.        ,\n",
       "          0.        ,  0.        ,  0.        ,  0.        ,  0.        ,\n",
       "         10.59128682,  0.        ,  0.        ,  2.02792846,  0.        ,\n",
       "          0.        ,  0.        ,  3.3259495 ,  0.        ,  0.        ],\n",
       "        [ 0.        ,  0.        ,  0.        ,  0.        , 14.25194327,\n",
       "          0.        ,  0.        ,  0.        ,  0.        , 10.90925708,\n",
       "          0.        ,  0.        ,  0.        ,  0.        ,  0.        ,\n",
       "          0.        ,  0.        ,  0.        ,  0.        ,  0.        ],\n",
       "        [ 0.        ,  0.        ,  0.        , 11.93454045,  0.        ,\n",
       "          0.        ,  0.        ,  0.        ,  0.        ,  0.        ,\n",
       "          0.        ,  0.        ,  0.        ,  0.        ,  0.        ,\n",
       "          0.        ,  0.        ,  0.        ,  0.        ,  0.        ],\n",
       "        [ 0.        ,  0.        , 11.93454045,  0.        ,  0.        ,\n",
       "          0.        ,  8.80616756,  0.        ,  0.        ,  0.        ,\n",
       "          0.        ,  0.        ,  0.        ,  0.        ,  0.        ,\n",
       "          0.        ,  0.        ,  0.        ,  0.        ,  0.        ],\n",
       "        [ 0.        , 14.25194327,  0.        ,  0.        ,  0.        ,\n",
       "          0.        ,  0.        ,  7.32653054,  0.        , 11.36330783,\n",
       "         10.91765141,  0.        ,  0.        ,  0.        ,  0.        ,\n",
       "          0.        ,  0.        ,  0.        ,  0.        ,  0.        ],\n",
       "        [ 0.        ,  0.        ,  0.        ,  0.        ,  0.        ,\n",
       "          0.        ,  0.        ,  0.        ,  0.        ,  0.        ,\n",
       "          0.        ,  0.        ,  6.93621322,  0.        , 13.32817951,\n",
       "          0.        , 12.60882227,  0.        ,  0.        ,  0.        ],\n",
       "        [ 0.        ,  0.        ,  0.        ,  8.80616756,  0.        ,\n",
       "          0.        ,  0.        ,  0.        ,  0.        ,  0.        ,\n",
       "          0.        ,  0.        ,  0.        ,  0.        ,  0.        ,\n",
       "          0.        ,  0.        ,  0.        ,  0.        ,  0.        ],\n",
       "        [ 0.        ,  0.        ,  0.        ,  0.        ,  7.32653054,\n",
       "          0.        ,  0.        ,  0.        , 12.98431766,  9.14327078,\n",
       "          7.0183794 ,  0.        ,  0.        ,  0.        ,  0.        ,\n",
       "         12.87061909,  0.        ,  0.        ,  0.        ,  0.        ],\n",
       "        [ 0.        ,  0.        ,  0.        ,  0.        ,  0.        ,\n",
       "          0.        ,  0.        , 12.98431766,  0.        , 10.76837844,\n",
       "          0.        ,  0.        , 13.84256625,  0.        ,  0.        ,\n",
       "          0.53219042,  0.        ,  0.        , 13.16720726, 14.83324612],\n",
       "        [ 0.        , 10.90925708,  0.        ,  0.        , 11.36330783,\n",
       "          0.        ,  0.        ,  9.14327078, 10.76837844,  0.        ,\n",
       "          0.        ,  0.        ,  0.        ,  0.        ,  0.        ,\n",
       "         10.32325479,  0.        ,  0.        , 11.68044518, 14.41659678],\n",
       "        [10.59128682,  0.        ,  0.        ,  0.        , 10.91765141,\n",
       "          0.        ,  0.        ,  7.0183794 ,  0.        ,  0.        ,\n",
       "          0.        ,  0.        ,  0.        ,  9.10999669,  0.        ,\n",
       "          0.        ,  0.        , 12.98961497,  0.        ,  0.        ],\n",
       "        [ 0.        ,  0.        ,  0.        ,  0.        ,  0.        ,\n",
       "          0.        ,  0.        ,  0.        ,  0.        ,  0.        ,\n",
       "          0.        ,  0.        ,  0.        ,  0.        ,  9.71874972,\n",
       "          0.        , 14.65161018,  0.        ,  3.80401347,  1.55352488],\n",
       "        [ 0.        ,  0.        ,  0.        ,  0.        ,  0.        ,\n",
       "          6.93621322,  0.        ,  0.        , 13.84256625,  0.        ,\n",
       "          0.        ,  0.        ,  0.        ,  0.        , 14.76938328,\n",
       "         14.01663877,  0.        ,  0.        ,  0.        ,  0.        ],\n",
       "        [ 2.02792846,  0.        ,  0.        ,  0.        ,  0.        ,\n",
       "          0.        ,  0.        ,  0.        ,  0.        ,  0.        ,\n",
       "          9.10999669,  0.        ,  0.        ,  0.        ,  0.        ,\n",
       "          0.        ,  0.        ,  5.33236083,  0.        ,  0.        ],\n",
       "        [ 0.        ,  0.        ,  0.        ,  0.        ,  0.        ,\n",
       "         13.32817951,  0.        ,  0.        ,  0.        ,  0.        ,\n",
       "          0.        ,  9.71874972, 14.76938328,  0.        ,  0.        ,\n",
       "          0.        ,  5.04491973,  0.        , 12.41529057,  9.83564729],\n",
       "        [ 0.        ,  0.        ,  0.        ,  0.        ,  0.        ,\n",
       "          0.        ,  0.        , 12.87061909,  0.53219042, 10.32325479,\n",
       "          0.        ,  0.        , 14.01663877,  0.        ,  0.        ,\n",
       "          0.        ,  0.        ,  0.        , 12.68653971, 14.39456758],\n",
       "        [ 0.        ,  0.        ,  0.        ,  0.        ,  0.        ,\n",
       "         12.60882227,  0.        ,  0.        ,  0.        ,  0.        ,\n",
       "          0.        , 14.65161018,  0.        ,  0.        ,  5.04491973,\n",
       "          0.        ,  0.        ,  0.        ,  0.        , 14.86342692],\n",
       "        [ 3.3259495 ,  0.        ,  0.        ,  0.        ,  0.        ,\n",
       "          0.        ,  0.        ,  0.        ,  0.        ,  0.        ,\n",
       "         12.98961497,  0.        ,  0.        ,  5.33236083,  0.        ,\n",
       "          0.        ,  0.        ,  0.        ,  0.        ,  0.        ],\n",
       "        [ 0.        ,  0.        ,  0.        ,  0.        ,  0.        ,\n",
       "          0.        ,  0.        ,  0.        , 13.16720726, 11.68044518,\n",
       "          0.        ,  3.80401347,  0.        ,  0.        , 12.41529057,\n",
       "         12.68653971,  0.        ,  0.        ,  0.        ,  2.75003259],\n",
       "        [ 0.        ,  0.        ,  0.        ,  0.        ,  0.        ,\n",
       "          0.        ,  0.        ,  0.        , 14.83324612, 14.41659678,\n",
       "          0.        ,  1.55352488,  0.        ,  0.        ,  9.83564729,\n",
       "         14.39456758, 14.86342692,  0.        ,  2.75003259,  0.        ]]),\n",
       " 14)"
      ]
     },
     "execution_count": 2,
     "metadata": {},
     "output_type": "execute_result"
    }
   ],
   "source": []
  },
  {
   "cell_type": "code",
   "execution_count": null,
   "metadata": {},
   "outputs": [],
   "source": []
  }
 ],
 "metadata": {
  "kernelspec": {
   "display_name": "Python 3",
   "language": "python",
   "name": "python3"
  },
  "language_info": {
   "codemirror_mode": {
    "name": "ipython",
    "version": 3
   },
   "file_extension": ".py",
   "mimetype": "text/x-python",
   "name": "python",
   "nbconvert_exporter": "python",
   "pygments_lexer": "ipython3",
   "version": "3.7.4"
  }
 },
 "nbformat": 4,
 "nbformat_minor": 4
}
